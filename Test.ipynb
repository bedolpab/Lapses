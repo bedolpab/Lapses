{
 "cells": [
  {
   "cell_type": "code",
   "execution_count": 1,
   "id": "469dd306",
   "metadata": {},
   "outputs": [
    {
     "name": "stderr",
     "output_type": "stream",
     "text": [
      "2023-03-02 23:46:39.841715: I tensorflow/core/platform/cpu_feature_guard.cc:193] This TensorFlow binary is optimized with oneAPI Deep Neural Network Library (oneDNN) to use the following CPU instructions in performance-critical operations:  AVX2 AVX512F AVX512_VNNI FMA\n",
      "To enable them in other operations, rebuild TensorFlow with the appropriate compiler flags.\n"
     ]
    }
   ],
   "source": [
    "from models.dcgan import DCGAN\n",
    "from models.discriminator import create_discriminator\n",
    "from models.generator import create_generator, test_generator\n",
    "from keras.optimizers import Adam\n",
    "from utils.image_utils import read_collection\n",
    "from utils.file_utils import make_directory\n",
    "from utils.benchmark_utils import time_stamp, get_time\n",
    "from utils.visualization_utils import save_plot\n",
    "import matplotlib.pyplot as plt\n",
    "import numpy as np\n",
    "import tensorflow as tf\n",
    "from tensorflow import keras\n",
    "import config"
   ]
  },
  {
   "cell_type": "code",
   "execution_count": 16,
   "id": "ada6bee0",
   "metadata": {},
   "outputs": [],
   "source": [
    "\n",
    "from tensorflow import keras\n",
    "from keras.layers import Dense, Flatten, Conv2D\n",
    "from keras.layers import LeakyReLU\n",
    "from keras.models import Sequential\n",
    "from keras.layers import Dropout"
   ]
  },
  {
   "cell_type": "code",
   "execution_count": 19,
   "id": "7f4323f8",
   "metadata": {},
   "outputs": [],
   "source": [
    "model = Sequential()\n",
    "model.add(Conv2D(3, kernel_size=1, padding='same', input_shape=config.IMG_SHAPE))\n",
    "model.add(LeakyReLU(alpha=0.2))\n",
    "model.add(Dropout(0.25))\n",
    "\n",
    "model.add(Conv2D(3, kernel_size=3, padding='same'))\n",
    "model.add(LeakyReLU(alpha=0.2))\n",
    "model.add(Conv2D(16, kernel_size=3, strides=2, padding='same'))\n",
    "model.add(LeakyReLU(alpha=0.2))\n",
    "model.add(Conv2D(32, kernel_size=2, strides=2, padding='valid'))\n",
    "model.add(LeakyReLU(alpha=0.2))\n",
    "model.add(Conv2D(64, kernel_size=2, strides=2, padding='valid'))\n",
    "model.add(LeakyReLU(alpha=0.2))\n",
    "\n",
    "# Finalized\n",
    "model.add(Flatten())\n",
    "model.add(Dense(1, activation='sigmoid'))"
   ]
  },
  {
   "cell_type": "code",
   "execution_count": 20,
   "id": "d8bf67c1",
   "metadata": {},
   "outputs": [
    {
     "name": "stdout",
     "output_type": "stream",
     "text": [
      "Model: \"sequential_13\"\n",
      "_________________________________________________________________\n",
      " Layer (type)                Output Shape              Param #   \n",
      "=================================================================\n",
      " conv2d (Conv2D)             (None, 64, 64, 3)         12        \n",
      "                                                                 \n",
      " leaky_re_lu_33 (LeakyReLU)  (None, 64, 64, 3)         0         \n",
      "                                                                 \n",
      " dropout (Dropout)           (None, 64, 64, 3)         0         \n",
      "                                                                 \n",
      " conv2d_1 (Conv2D)           (None, 64, 64, 3)         84        \n",
      "                                                                 \n",
      " leaky_re_lu_34 (LeakyReLU)  (None, 64, 64, 3)         0         \n",
      "                                                                 \n",
      " conv2d_2 (Conv2D)           (None, 32, 32, 16)        448       \n",
      "                                                                 \n",
      " leaky_re_lu_35 (LeakyReLU)  (None, 32, 32, 16)        0         \n",
      "                                                                 \n",
      " conv2d_3 (Conv2D)           (None, 16, 16, 32)        2080      \n",
      "                                                                 \n",
      " leaky_re_lu_36 (LeakyReLU)  (None, 16, 16, 32)        0         \n",
      "                                                                 \n",
      " conv2d_4 (Conv2D)           (None, 8, 8, 64)          8256      \n",
      "                                                                 \n",
      " leaky_re_lu_37 (LeakyReLU)  (None, 8, 8, 64)          0         \n",
      "                                                                 \n",
      " flatten (Flatten)           (None, 4096)              0         \n",
      "                                                                 \n",
      " dense_10 (Dense)            (None, 1)                 4097      \n",
      "                                                                 \n",
      "=================================================================\n",
      "Total params: 14,977\n",
      "Trainable params: 14,977\n",
      "Non-trainable params: 0\n",
      "_________________________________________________________________\n"
     ]
    }
   ],
   "source": [
    "model.summary()"
   ]
  },
  {
   "cell_type": "code",
   "execution_count": null,
   "id": "5dbe2b67",
   "metadata": {},
   "outputs": [],
   "source": [
    "generator = create_generator(z=config.Z_DIM)\n",
    "discriminator = create_discriminator(img_shape=config.IMG_SHAPE)"
   ]
  },
  {
   "cell_type": "code",
   "execution_count": null,
   "id": "d1958776",
   "metadata": {},
   "outputs": [],
   "source": [
    "generator.compile(loss='binary_crossentropy',\n",
    "                 optimizer=Adam(learning_rate=0.0002, beta_1=0.4))"
   ]
  },
  {
   "cell_type": "code",
   "execution_count": null,
   "id": "24f7e158",
   "metadata": {},
   "outputs": [],
   "source": [
    "discriminator.compile(loss='binary_crossentropy', \n",
    "                     optimizer=Adam(learning_rate=0.0002, beta_1=0.4),\n",
    "                      metrics=['accuracy'])"
   ]
  },
  {
   "cell_type": "code",
   "execution_count": null,
   "id": "f7b99795",
   "metadata": {},
   "outputs": [],
   "source": [
    "discriminator.trainable = False"
   ]
  },
  {
   "cell_type": "code",
   "execution_count": null,
   "id": "ddb545f5",
   "metadata": {},
   "outputs": [],
   "source": [
    "dcgan = DCGAN(generator, discriminator)\n",
    "dcgan.compile(loss='binary_crossentropy',\n",
    "             optimizer=Adam())"
   ]
  },
  {
   "cell_type": "code",
   "execution_count": null,
   "id": "118322b1",
   "metadata": {},
   "outputs": [],
   "source": [
    "dcgan = tf.keras.models.load_model(\"./model-py-test/dcgan/\")"
   ]
  },
  {
   "cell_type": "code",
   "execution_count": null,
   "id": "7205c317",
   "metadata": {},
   "outputs": [],
   "source": [
    "discriminator_losses = []\n",
    "gan_losses = []"
   ]
  },
  {
   "cell_type": "code",
   "execution_count": null,
   "id": "f0f3d192",
   "metadata": {},
   "outputs": [],
   "source": [
    "data_images = read_collection(config.DATA_TRAINING_PATH, 'jpg')"
   ]
  },
  {
   "cell_type": "code",
   "execution_count": null,
   "id": "d8ed4e6d",
   "metadata": {},
   "outputs": [],
   "source": [
    "plt.imshow(data_images[0])"
   ]
  },
  {
   "cell_type": "code",
   "execution_count": null,
   "id": "7dc74de5",
   "metadata": {},
   "outputs": [],
   "source": [
    "time_stamp(\"Generating labels ...\", get_time())\n",
    "real_labels = np.ones((config.BATCH_SIZE, 1))\n",
    "fake_labels = np.zeros((config.BATCH_SIZE, 1))\n",
    "time_stamp(\"Finishing ...\", get_time())"
   ]
  },
  {
   "cell_type": "code",
   "execution_count": null,
   "id": "b9c8c12f",
   "metadata": {},
   "outputs": [],
   "source": [
    "make_directory(config.MODEL_FOLDER_NAME)\n",
    "make_directory(f'{config.MODEL_FOLDER_NAME}/predictions')"
   ]
  },
  {
   "cell_type": "code",
   "execution_count": null,
   "id": "b03ae427",
   "metadata": {},
   "outputs": [],
   "source": [
    "ls"
   ]
  },
  {
   "cell_type": "code",
   "execution_count": null,
   "id": "3215c883",
   "metadata": {},
   "outputs": [],
   "source": [
    "for iteration in range(config.ITERATIONS):\n",
    "    # Collect batch\n",
    "    random_indicies = np.random.choice(\n",
    "        len(data_images),\n",
    "        size=config.BATCH_SIZE,\n",
    "        replace=False)\n",
    "    real_image_batch = np.array([data_images[i] for i in random_indicies]) / 127.5 - 1.0 # rescale [-1, 1]\n",
    "    \n",
    "    # Random batch of fake images\n",
    "    z_fake = tf.random.normal([config.BATCH_SIZE, config.Z_DIM])\n",
    "    generated_images = generator.predict(z_fake)\n",
    "    \n",
    "    # Train discriminator\n",
    "    discriminator_real_loss = discriminator.train_on_batch(real_image_batch, real_labels)\n",
    "    discriminator_fake_loss = discriminator.train_on_batch(generated_images, fake_labels)\n",
    "    \n",
    "    # Get discriminator loss and accuracy\n",
    "    discriminator_loss, accuracy = 0.5 * np.add(discriminator_real_loss, discriminator_fake_loss)\n",
    "    \n",
    "    # Train generator\n",
    "    z_fake = tf.random.normal([config.BATCH_SIZE, config.Z_DIM])\n",
    "    generated_images = generator.predict(z_fake)\n",
    "    \n",
    "    # Get generator loss and accuracy\n",
    "    gan_loss = dcgan.train_on_batch(z_fake, real_labels)\n",
    "    \n",
    "    # Append data\n",
    "    discriminator_losses.append(discriminator_loss)\n",
    "    gan_losses.append(gan_loss)\n",
    "    \n",
    "    # Progress output\n",
    "    if (iteration + 1) % config.SAMPLE_INTERVAL == 0:\n",
    "        print(\"Iteration %d, [D loss: %f, acc.:%.2f%%] [G loss: %f]\" %( iteration+1, discriminator_loss, 100.0*accuracy, gan_loss))\n",
    "        \n",
    "        # Generate random images\n",
    "        z_generated = tf.random.normal([3*3, 128])\n",
    "        generate_images = generator.predict(z_generated)\n",
    "        generate_images = 0.5 * generate_images + 0.5\n",
    "        \n",
    "        # Plot\n",
    "        fig = plt.figure(figsize=(3, 3))\n",
    "        fig, axs = plt.subplots(3, 3, sharex=True, sharey=True)\n",
    "        \n",
    "        cnt = 0\n",
    "        for i in range(3):\n",
    "            for j in range(3):\n",
    "                # Get images from batch at index 'cnt'\n",
    "                axs[i, j].imshow(generate_images[cnt])\n",
    "                cnt += 1\n",
    "        plt.savefig(f'{config.MODEL_FOLDER_NAME}/predictions/{iteration+1}.png')"
   ]
  },
  {
   "cell_type": "code",
   "execution_count": null,
   "id": "cb1bbc6d",
   "metadata": {},
   "outputs": [],
   "source": [
    "plt.clf()\n",
    "save_plot(discriminator_losses, 'Discriminator Loss', config.MODEL_FOLDER_NAME, 'discriminator_loss')"
   ]
  },
  {
   "cell_type": "code",
   "execution_count": null,
   "id": "83889b4c",
   "metadata": {},
   "outputs": [],
   "source": [
    "plt.clf()\n",
    "save_plot(gan_losses, 'Gan Loss', config.MODEL_FOLDER_NAME, 'gan_loss')"
   ]
  },
  {
   "cell_type": "code",
   "execution_count": null,
   "id": "30b6dce3",
   "metadata": {},
   "outputs": [],
   "source": []
  }
 ],
 "metadata": {
  "kernelspec": {
   "display_name": "Python 3 (ipykernel)",
   "language": "python",
   "name": "python3"
  },
  "language_info": {
   "codemirror_mode": {
    "name": "ipython",
    "version": 3
   },
   "file_extension": ".py",
   "mimetype": "text/x-python",
   "name": "python",
   "nbconvert_exporter": "python",
   "pygments_lexer": "ipython3",
   "version": "3.10.0"
  },
  "varInspector": {
   "cols": {
    "lenName": 16,
    "lenType": 16,
    "lenVar": 40
   },
   "kernels_config": {
    "python": {
     "delete_cmd_postfix": "",
     "delete_cmd_prefix": "del ",
     "library": "var_list.py",
     "varRefreshCmd": "print(var_dic_list())"
    },
    "r": {
     "delete_cmd_postfix": ") ",
     "delete_cmd_prefix": "rm(",
     "library": "var_list.r",
     "varRefreshCmd": "cat(var_dic_list()) "
    }
   },
   "position": {
    "height": "144.85px",
    "left": "1026px",
    "right": "20px",
    "top": "119px",
    "width": "350px"
   },
   "types_to_exclude": [
    "module",
    "function",
    "builtin_function_or_method",
    "instance",
    "_Feature"
   ],
   "window_display": true
  }
 },
 "nbformat": 4,
 "nbformat_minor": 5
}
