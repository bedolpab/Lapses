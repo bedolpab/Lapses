{
 "cells": [
  {
   "cell_type": "code",
   "execution_count": 4,
   "id": "469dd306",
   "metadata": {},
   "outputs": [],
   "source": [
    "from models.dcgan import DCGAN\n",
    "from models.discriminator import create_discriminator\n",
    "from models.generator import create_generator, test_generator\n",
    "from keras.optimizers import Adam\n",
    "from utils.image_utils import read_collection\n",
    "from utils.file_utils import make_directory\n",
    "from utils.benchmark_utils import time_stamp, get_time\n",
    "from utils.visualization_utils import save_plot\n",
    "import matplotlib.pyplot as plt\n",
    "import numpy as np\n",
    "import tensorflow as tf\n",
    "from tensorflow import keras\n",
    "import config"
   ]
  },
  {
   "cell_type": "code",
   "execution_count": 2,
   "id": "b62566fe",
   "metadata": {},
   "outputs": [],
   "source": [
    "import tensorflow as tf\n",
    "from tensorflow import keras\n",
    "from keras.layers import Dense, Reshape, Conv2DTranspose, Activation, BatchNormalization, UpSampling2D\n",
    "from keras.layers import LeakyReLU\n",
    "from keras.models import Sequential\n",
    "import matplotlib.pyplot as plt"
   ]
  },
  {
   "cell_type": "code",
   "execution_count": 3,
   "id": "46a10e75",
   "metadata": {},
   "outputs": [
    {
     "name": "stderr",
     "output_type": "stream",
     "text": [
      "2023-03-03 13:33:51.942097: I tensorflow/core/platform/cpu_feature_guard.cc:193] This TensorFlow binary is optimized with oneAPI Deep Neural Network Library (oneDNN) to use the following CPU instructions in performance-critical operations:  AVX2 AVX512F AVX512_VNNI FMA\n",
      "To enable them in other operations, rebuild TensorFlow with the appropriate compiler flags.\n"
     ]
    }
   ],
   "source": [
    "model = Sequential()\n",
    "\n",
    "# Input Latent vector\n",
    "model.add(Dense(4*4*100, input_dim=100))\n",
    "# Reshape\n",
    "model.add(Reshape((4, 4, 100)))\n",
    "\n",
    "# Convolutional Layers\n",
    "model.add(Conv2DTranspose(256, kernel_size=3, padding='same'))\n",
    "model.add(UpSampling2D())\n",
    "\n",
    "model.add(Conv2DTranspose(128, kernel_size=3, padding='same', strides=2))\n",
    "model.add(UpSampling2D())\n",
    "\n",
    "model.add(Conv2DTranspose(64, kernel_size=3, padding='same', strides=2))\n",
    "model.add(LeakyReLU(alpha=0.2))\n",
    "\n",
    "model.add(Conv2DTranspose(3, kernel_size=3, padding='same'))\n",
    "model.add(Activation('tanh'))"
   ]
  },
  {
   "cell_type": "code",
   "execution_count": 4,
   "id": "8c7c3cc4",
   "metadata": {},
   "outputs": [
    {
     "name": "stdout",
     "output_type": "stream",
     "text": [
      "Model: \"sequential\"\n",
      "_________________________________________________________________\n",
      " Layer (type)                Output Shape              Param #   \n",
      "=================================================================\n",
      " dense (Dense)               (None, 1600)              161600    \n",
      "                                                                 \n",
      " reshape (Reshape)           (None, 4, 4, 100)         0         \n",
      "                                                                 \n",
      " conv2d_transpose (Conv2DTra  (None, 4, 4, 256)        230656    \n",
      " nspose)                                                         \n",
      "                                                                 \n",
      " up_sampling2d (UpSampling2D  (None, 8, 8, 256)        0         \n",
      " )                                                               \n",
      "                                                                 \n",
      " conv2d_transpose_1 (Conv2DT  (None, 16, 16, 128)      295040    \n",
      " ranspose)                                                       \n",
      "                                                                 \n",
      " up_sampling2d_1 (UpSampling  (None, 32, 32, 128)      0         \n",
      " 2D)                                                             \n",
      "                                                                 \n",
      " conv2d_transpose_2 (Conv2DT  (None, 64, 64, 64)       73792     \n",
      " ranspose)                                                       \n",
      "                                                                 \n",
      " leaky_re_lu (LeakyReLU)     (None, 64, 64, 64)        0         \n",
      "                                                                 \n",
      " conv2d_transpose_3 (Conv2DT  (None, 64, 64, 3)        1731      \n",
      " ranspose)                                                       \n",
      "                                                                 \n",
      " activation (Activation)     (None, 64, 64, 3)         0         \n",
      "                                                                 \n",
      "=================================================================\n",
      "Total params: 762,819\n",
      "Trainable params: 762,819\n",
      "Non-trainable params: 0\n",
      "_________________________________________________________________\n"
     ]
    }
   ],
   "source": [
    "model.summary()"
   ]
  },
  {
   "cell_type": "code",
   "execution_count": 6,
   "id": "aa680140",
   "metadata": {},
   "outputs": [
    {
     "name": "stdout",
     "output_type": "stream",
     "text": [
      "1/1 [==============================] - 0s 137ms/step\n"
     ]
    },
    {
     "name": "stderr",
     "output_type": "stream",
     "text": [
      "Clipping input data to the valid range for imshow with RGB data ([0..1] for floats or [0..255] for integers).\n"
     ]
    },
    {
     "data": {
      "image/png": "[encoded data removed]",
      "text/plain": [
       "<Figure size 432x288 with 1 Axes>"
      ]
     },
     "metadata": {
      "needs_background": "light"
     },
     "output_type": "display_data"
    }
   ],
   "source": [
    "gen = create_generator(128)\n",
    "noise = tf.random.normal([1, 128])\n",
    "img = gen.predict(noise)\n",
    "img = tf.reshape(img, shape=(img.shape[1], img.shape[2], img.shape[3]))\n",
    "plt.imshow((img * 255))\n",
    "plt.show()"
   ]
  },
  {
   "cell_type": "code",
   "execution_count": null,
   "id": "5dbe2b67",
   "metadata": {},
   "outputs": [],
   "source": [
    "generator = create_generator(z=config.Z_DIM)\n",
    "discriminator = create_discriminator(img_shape=config.IMG_SHAPE)"
   ]
  },
  {
   "cell_type": "code",
   "execution_count": null,
   "id": "d1958776",
   "metadata": {},
   "outputs": [],
   "source": [
    "generator.compile(loss='binary_crossentropy',\n",
    "                 optimizer=Adam(learning_rate=0.0002, beta_1=0.4))"
   ]
  },
  {
   "cell_type": "code",
   "execution_count": null,
   "id": "24f7e158",
   "metadata": {},
   "outputs": [],
   "source": [
    "discriminator.compile(loss='binary_crossentropy', \n",
    "                     optimizer=Adam(learning_rate=0.0002, beta_1=0.4),\n",
    "                      metrics=['accuracy'])"
   ]
  },
  {
   "cell_type": "code",
   "execution_count": null,
   "id": "f7b99795",
   "metadata": {},
   "outputs": [],
   "source": [
    "discriminator.trainable = False"
   ]
  },
  {
   "cell_type": "code",
   "execution_count": null,
   "id": "ddb545f5",
   "metadata": {},
   "outputs": [],
   "source": [
    "dcgan = DCGAN(generator, discriminator)\n",
    "dcgan.compile(loss='binary_crossentropy',\n",
    "             optimizer=Adam())"
   ]
  },
  {
   "cell_type": "code",
   "execution_count": null,
   "id": "118322b1",
   "metadata": {},
   "outputs": [],
   "source": [
    "dcgan = tf.keras.models.load_model(\"./model-py-test/dcgan/\")"
   ]
  },
  {
   "cell_type": "code",
   "execution_count": null,
   "id": "7205c317",
   "metadata": {},
   "outputs": [],
   "source": [
    "discriminator_losses = []\n",
    "gan_losses = []"
   ]
  },
  {
   "cell_type": "code",
   "execution_count": null,
   "id": "f0f3d192",
   "metadata": {},
   "outputs": [],
   "source": [
    "data_images = read_collection(config.DATA_TRAINING_PATH, 'jpg')"
   ]
  },
  {
   "cell_type": "code",
   "execution_count": null,
   "id": "d8ed4e6d",
   "metadata": {},
   "outputs": [],
   "source": [
    "plt.imshow(data_images[0])"
   ]
  },
  {
   "cell_type": "code",
   "execution_count": null,
   "id": "7dc74de5",
   "metadata": {},
   "outputs": [],
   "source": [
    "time_stamp(\"Generating labels ...\", get_time())\n",
    "real_labels = np.ones((config.BATCH_SIZE, 1))\n",
    "fake_labels = np.zeros((config.BATCH_SIZE, 1))\n",
    "time_stamp(\"Finishing ...\", get_time())"
   ]
  },
  {
   "cell_type": "code",
   "execution_count": null,
   "id": "b9c8c12f",
   "metadata": {},
   "outputs": [],
   "source": [
    "make_directory(config.MODEL_FOLDER_NAME)\n",
    "make_directory(f'{config.MODEL_FOLDER_NAME}/predictions')"
   ]
  },
  {
   "cell_type": "code",
   "execution_count": null,
   "id": "b03ae427",
   "metadata": {},
   "outputs": [],
   "source": [
    "ls"
   ]
  },
  {
   "cell_type": "code",
   "execution_count": null,
   "id": "3215c883",
   "metadata": {},
   "outputs": [],
   "source": [
    "for iteration in range(config.ITERATIONS):\n",
    "    # Collect batch\n",
    "    random_indicies = np.random.choice(\n",
    "        len(data_images),\n",
    "        size=config.BATCH_SIZE,\n",
    "        replace=False)\n",
    "    real_image_batch = np.array([data_images[i] for i in random_indicies]) / 127.5 - 1.0 # rescale [-1, 1]\n",
    "    \n",
    "    # Random batch of fake images\n",
    "    z_fake = tf.random.normal([config.BATCH_SIZE, config.Z_DIM])\n",
    "    generated_images = generator.predict(z_fake)\n",
    "    \n",
    "    discriminator.trainable = False\n",
    "    # Train discriminator\n",
    "    discriminator_real_loss = discriminator.train_on_batch(real_image_batch, real_labels)\n",
    "    discriminator_fake_loss = discriminator.train_on_batch(generated_images, fake_labels)\n",
    "    \n",
    "    # Get discriminator loss and accuracy\n",
    "    discriminator_loss, accuracy = 0.5 * np.add(discriminator_real_loss, discriminator_fake_loss)\n",
    "    \n",
    "    # Train generator\n",
    "    z_fake = tf.random.normal([config.BATCH_SIZE, config.Z_DIM])\n",
    "    generated_images = generator.predict(z_fake)\n",
    "    \n",
    "    # Get generator loss and accuracy\n",
    "    gan_loss = dcgan.train_on_batch(z_fake, real_labels)\n",
    "    \n",
    "    # Append data\n",
    "    discriminator_losses.append(discriminator_loss)\n",
    "    gan_losses.append(gan_loss)\n",
    "    \n",
    "    # Progress output\n",
    "    if (iteration + 1) % config.SAMPLE_INTERVAL == 0:\n",
    "        print(\"Iteration %d, [D loss: %f, acc.:%.2f%%] [G loss: %f]\" %( iteration+1, discriminator_loss, 100.0*accuracy, gan_loss))\n",
    "        \n",
    "        # Generate random images\n",
    "        z_generated = tf.random.normal([3*3, 128])\n",
    "        generate_images = generator.predict(z_generated)\n",
    "        generate_images = 0.5 * generate_images + 0.5\n",
    "        \n",
    "        # Plot\n",
    "        fig = plt.figure(figsize=(3, 3))\n",
    "        fig, axs = plt.subplots(3, 3, sharex=True, sharey=True)\n",
    "        \n",
    "        cnt = 0\n",
    "        for i in range(3):\n",
    "            for j in range(3):\n",
    "                # Get images from batch at index 'cnt'\n",
    "                axs[i, j].imshow(generate_images[cnt])\n",
    "                cnt += 1\n",
    "        plt.savefig(f'{config.MODEL_FOLDER_NAME}/predictions/{iteration+1}.png')"
   ]
  },
  {
   "cell_type": "code",
   "execution_count": null,
   "id": "cb1bbc6d",
   "metadata": {},
   "outputs": [],
   "source": [
    "plt.clf()\n",
    "save_plot(discriminator_losses, 'Discriminator Loss', config.MODEL_FOLDER_NAME, 'discriminator_loss')"
   ]
  },
  {
   "cell_type": "code",
   "execution_count": null,
   "id": "83889b4c",
   "metadata": {},
   "outputs": [],
   "source": [
    "plt.clf()\n",
    "save_plot(gan_losses, 'Gan Loss', config.MODEL_FOLDER_NAME, 'gan_loss')"
   ]
  },
  {
   "cell_type": "code",
   "execution_count": null,
   "id": "30b6dce3",
   "metadata": {},
   "outputs": [],
   "source": []
  }
 ],
 "metadata": {
  "kernelspec": {
   "display_name": "Python 3 (ipykernel)",
   "language": "python",
   "name": "python3"
  },
  "language_info": {
   "codemirror_mode": {
    "name": "ipython",
    "version": 3
   },
   "file_extension": ".py",
   "mimetype": "text/x-python",
   "name": "python",
   "nbconvert_exporter": "python",
   "pygments_lexer": "ipython3",
   "version": "3.10.0"
  },
  "varInspector": {
   "cols": {
    "lenName": 16,
    "lenType": 16,
    "lenVar": 40
   },
   "kernels_config": {
    "python": {
     "delete_cmd_postfix": "",
     "delete_cmd_prefix": "del ",
     "library": "var_list.py",
     "varRefreshCmd": "print(var_dic_list())"
    },
    "r": {
     "delete_cmd_postfix": ") ",
     "delete_cmd_prefix": "rm(",
     "library": "var_list.r",
     "varRefreshCmd": "cat(var_dic_list()) "
    }
   },
   "position": {
    "height": "144.85px",
    "left": "1026px",
    "right": "20px",
    "top": "119px",
    "width": "350px"
   },
   "types_to_exclude": [
    "module",
    "function",
    "builtin_function_or_method",
    "instance",
    "_Feature"
   ],
   "window_display": true
  }
 },
 "nbformat": 4,
 "nbformat_minor": 5
}
