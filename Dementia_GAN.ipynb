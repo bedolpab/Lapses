{
 "cells": [
  {
   "cell_type": "code",
   "execution_count": 92,
   "id": "338e80fe",
   "metadata": {},
   "outputs": [],
   "source": [
    "import tensorflow as tf\n",
    "from tensorflow import keras\n",
    "from skimage import io\n",
    "from skimage.io import imread_collection\n",
    "import matplotlib.pyplot as plt\n",
    "import numpy as np\n",
    "import requests\n",
    "import shutil"
   ]
  },
  {
   "cell_type": "markdown",
   "id": "69cae80d",
   "metadata": {},
   "source": [
    "## Fetch Data (Images)\n",
    "We begin by fetching a dataset of 10,000 images from [thispersondoesnotexistcom](https://www.thispersondoesnotexist.com). We do so by requesting from the endpoint `thispersondoesnotexist.com/images` 10,000 (k) times."
   ]
  },
  {
   "cell_type": "code",
   "execution_count": 93,
   "id": "71888d1c",
   "metadata": {},
   "outputs": [],
   "source": [
    "def fetch_images(k: int, folder_name: str):\n",
    "    \"\"\" \n",
    "    Fetch images from thispersondoesnotexist.com\n",
    "    \n",
    "    :param k: number of images to fetch\n",
    "    :param folder_name: name of folder to save images to\n",
    "    \"\"\"\n",
    "    if k < 1:\n",
    "        return 0\n",
    "    \n",
    "    # Locals\n",
    "    count = 0\n",
    "    endpoint = 'image'\n",
    "    url = f'https://thispersondoesnotexist.com/{endpoint}'\n",
    "    while count < k:\n",
    "        image = requests.get(url).content\n",
    "        with open(f'{folder_name}/img_{count}.png', 'wb') as f:\n",
    "            f.write(image)\n",
    "        count += 1\n",
    "        \n",
    "        # A times.sleep(x) is recommended to avoid latency errors"
   ]
  },
  {
   "cell_type": "markdown",
   "id": "d5865ccc",
   "metadata": {},
   "source": [
    "We can now call this function and store the images locally"
   ]
  },
  {
   "cell_type": "code",
   "execution_count": null,
   "id": "06c83107",
   "metadata": {},
   "outputs": [],
   "source": [
    "fetch_images(k=10_000, folder_name='images')"
   ]
  },
  {
   "cell_type": "markdown",
   "id": "f1147f81",
   "metadata": {},
   "source": [
    "## Validating image\n",
    "We should validate wether the image exists"
   ]
  },
  {
   "cell_type": "code",
   "execution_count": 94,
   "id": "a0a623c5",
   "metadata": {},
   "outputs": [],
   "source": [
    "def image_exists(folder_name:str) -> bool:\n",
    "    \"\"\" \n",
    "    Check whether an image exists in folder_name\n",
    "    \n",
    "    :param folder_name: folder in which dataset images are located\n",
    "    \"\"\"\n",
    "    try:\n",
    "        # Default image 0\n",
    "        image = io.imread(f'{folder_name}/img_0.png')\n",
    "        return (True, image)\n",
    "    except:\n",
    "        print(f'Image \"img_0.png\" in {folder_name} not found')\n",
    "        return False"
   ]
  },
  {
   "cell_type": "markdown",
   "id": "66348ebe",
   "metadata": {},
   "source": [
    "## Showing a batch\n",
    "We can see a random batch of images from the dataset"
   ]
  },
  {
   "cell_type": "code",
   "execution_count": 95,
   "id": "3cb6dec4",
   "metadata": {},
   "outputs": [],
   "source": [
    "def show_batch():\n",
    "    fig = plt.figure(figsize= (4, 4))\n",
    "    fig, axs = plt.subplots(4,\n",
    "                        4,\n",
    "                        sharey=True,\n",
    "                        sharex=True,\n",
    "                        )\n",
    "    axis[0, 1].imshow()"
   ]
  },
  {
   "cell_type": "code",
   "execution_count": 96,
   "id": "295ebbfd",
   "metadata": {},
   "outputs": [],
   "source": [
    "image_test = image_exists(folder_name='images')"
   ]
  },
  {
   "cell_type": "code",
   "execution_count": 97,
   "id": "4a4d6d12",
   "metadata": {},
   "outputs": [
    {
     "data": {
      "text/plain": [
       "(True,\n",
       " array([[[178, 167, 137],\n",
       "         [182, 169, 137],\n",
       "         [183, 169, 134],\n",
       "         ...,\n",
       "         [183, 167, 133],\n",
       "         [180, 163, 133],\n",
       "         [170, 153, 123]],\n",
       " \n",
       "        [[186, 173, 141],\n",
       "         [184, 171, 137],\n",
       "         [185, 169, 135],\n",
       "         ...,\n",
       "         [177, 163, 128],\n",
       "         [182, 166, 133],\n",
       "         [180, 165, 132]],\n",
       " \n",
       "        [[186, 171, 138],\n",
       "         [183, 169, 134],\n",
       "         [183, 167, 131],\n",
       "         ...,\n",
       "         [181, 169, 131],\n",
       "         [184, 170, 133],\n",
       "         [181, 168, 133]],\n",
       " \n",
       "        ...,\n",
       " \n",
       "        [[168, 151, 131],\n",
       "         [167, 150, 130],\n",
       "         [163, 146, 126],\n",
       "         ...,\n",
       "         [136, 127,  94],\n",
       "         [138, 127,  97],\n",
       "         [142, 128,  99]],\n",
       " \n",
       "        [[162, 144, 124],\n",
       "         [170, 152, 132],\n",
       "         [167, 149, 127],\n",
       "         ...,\n",
       "         [136, 127,  98],\n",
       "         [138, 126, 100],\n",
       "         [140, 128, 102]],\n",
       " \n",
       "        [[155, 137, 117],\n",
       "         [163, 145, 125],\n",
       "         [167, 149, 127],\n",
       "         ...,\n",
       "         [136, 127,  98],\n",
       "         [142, 130, 106],\n",
       "         [144, 132, 108]]], dtype=uint8))"
      ]
     },
     "execution_count": 97,
     "metadata": {},
     "output_type": "execute_result"
    }
   ],
   "source": [
    "image_test"
   ]
  },
  {
   "cell_type": "code",
   "execution_count": 101,
   "id": "1d35bb36",
   "metadata": {},
   "outputs": [
    {
     "data": {
      "text/plain": [
       "<Figure size 288x288 with 0 Axes>"
      ]
     },
     "metadata": {},
     "output_type": "display_data"
    },
    {
     "data": {
      "image/png": "[encoded data removed]",
      "text/plain": [
       "<Figure size 432x288 with 16 Axes>"
      ]
     },
     "metadata": {
      "needs_background": "light"
     },
     "output_type": "display_data"
    }
   ],
   "source": [
    "fig = plt.figure(figsize= (4, 4))\n",
    "fig, axs = plt.subplots(4,4)\n",
    "cnt = 0\n",
    "for i in range(4):\n",
    "    for j in range(4):\n",
    "        axs[i, j].imshow(image_test[1])\n",
    "        cnt += 1\n",
    "plt.show()"
   ]
  },
  {
   "cell_type": "code",
   "execution_count": 99,
   "id": "350b6638",
   "metadata": {},
   "outputs": [],
   "source": []
  },
  {
   "cell_type": "code",
   "execution_count": null,
   "id": "26e7510b",
   "metadata": {},
   "outputs": [],
   "source": []
  },
  {
   "cell_type": "code",
   "execution_count": null,
   "id": "3769f299",
   "metadata": {},
   "outputs": [],
   "source": []
  },
  {
   "cell_type": "code",
   "execution_count": null,
   "id": "26d98309",
   "metadata": {},
   "outputs": [],
   "source": []
  }
 ],
 "metadata": {
  "kernelspec": {
   "display_name": "Python 3 (ipykernel)",
   "language": "python",
   "name": "python3"
  },
  "language_info": {
   "codemirror_mode": {
    "name": "ipython",
    "version": 3
   },
   "file_extension": ".py",
   "mimetype": "text/x-python",
   "name": "python",
   "nbconvert_exporter": "python",
   "pygments_lexer": "ipython3",
   "version": "3.10.0"
  }
 },
 "nbformat": 4,
 "nbformat_minor": 5
}
