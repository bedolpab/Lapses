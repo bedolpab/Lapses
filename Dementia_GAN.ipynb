{
 "cells": [
  {
   "cell_type": "code",
   "execution_count": 14,
   "id": "338e80fe",
   "metadata": {
    "scrolled": true
   },
   "outputs": [],
   "source": [
    "import tensorflow as tf\n",
    "from tensorflow import keras\n",
    "from skimage import io\n",
    "from skimage.io import imread_collection\n",
    "from PIL import Image\n",
    "import matplotlib.pyplot as plt\n",
    "import numpy as np\n",
    "import requests\n",
    "import shutil"
   ]
  },
  {
   "cell_type": "markdown",
   "id": "69cae80d",
   "metadata": {},
   "source": [
    "## Fetch Data (Images)\n",
    "We begin by fetching a dataset of 10,000 images from [thispersondoesnotexistcom](https://www.thispersondoesnotexist.com). We do so by requesting from the endpoint `thispersondoesnotexist.com/images` 10,000 (k) times."
   ]
  },
  {
   "cell_type": "code",
   "execution_count": 15,
   "id": "ba7b5767",
   "metadata": {},
   "outputs": [],
   "source": [
    "image_path = \"./images\""
   ]
  },
  {
   "cell_type": "code",
   "execution_count": 16,
   "id": "cefbd236",
   "metadata": {},
   "outputs": [],
   "source": [
    "def save_image(image):\n",
    "        with open(f'{self.image_path}/img_{count}.{img_type}', 'wb') as f:\n",
    "            f.write(image)"
   ]
  },
  {
   "cell_type": "code",
   "execution_count": 17,
   "id": "71888d1c",
   "metadata": {},
   "outputs": [],
   "source": [
    "def fetch_images(k: int, folder_name: str):\n",
    "    \"\"\" \n",
    "    Fetch images from thispersondoesnotexist.com\n",
    "    \n",
    "    :param k: number of images to fetch\n",
    "    :param folder_name: name of folder to save images to\n",
    "    \"\"\"\n",
    "    if k < 1:\n",
    "        return 0\n",
    "    \n",
    "    # Locals\n",
    "    count = 0\n",
    "    endpoint = 'image'\n",
    "    url = f'https://thispersondoesnotexist.com/{endpoint}'\n",
    "    while count < k:\n",
    "        image = requests.get(url).content\n",
    "        save_image(image)\n",
    "        count += 1\n",
    "        \n",
    "        # A time.sleep(x) is recommended to avoid latency errors"
   ]
  },
  {
   "cell_type": "markdown",
   "id": "d5865ccc",
   "metadata": {},
   "source": [
    "We can now call this function and store the images locally"
   ]
  },
  {
   "cell_type": "markdown",
   "id": "ffbe2a26",
   "metadata": {},
   "source": [
    "```python\n",
    "fetch_images(k=10_000, folder_name='images')\n",
    "```"
   ]
  },
  {
   "cell_type": "markdown",
   "id": "f1147f81",
   "metadata": {},
   "source": [
    "## Validating image\n",
    "We should validate wether the image exists"
   ]
  },
  {
   "cell_type": "code",
   "execution_count": 31,
   "id": "1ef07035",
   "metadata": {},
   "outputs": [],
   "source": [
    "IMAGE_TYPE = type(image)"
   ]
  },
  {
   "cell_type": "code",
   "execution_count": 33,
   "id": "c2f337f1",
   "metadata": {},
   "outputs": [],
   "source": [
    "def read_image(folder_name:str, idx:int) -> IMAGE_TYPE:\n",
    "    return io.imread(f'{folder_name}/img_{idx}.png')"
   ]
  },
  {
   "cell_type": "code",
   "execution_count": 36,
   "id": "a0a623c5",
   "metadata": {},
   "outputs": [],
   "source": [
    "def image_exists(folder_name:str) -> bool:\n",
    "    \"\"\" \n",
    "    Check whether an image exists in folder_name\n",
    "    \n",
    "    :param folder_name: folder in which dataset images are located\n",
    "    \"\"\"\n",
    "    try:\n",
    "        # Default image 0\n",
    "        image = read_image(image_path, 0)\n",
    "        return True\n",
    "    except:\n",
    "        print(f'Image \"img_0.png\" in {folder_name} not found')\n",
    "        return False"
   ]
  },
  {
   "cell_type": "markdown",
   "id": "66348ebe",
   "metadata": {},
   "source": [
    "## Showing a batch\n",
    "We can see a random batch of images from the dataset"
   ]
  },
  {
   "cell_type": "code",
   "execution_count": 43,
   "id": "3cb6dec4",
   "metadata": {},
   "outputs": [],
   "source": [
    "def show_batch(batch):\n",
    "    images = np.random.randint(low=0, high=len(batch), size=16) # get random indices\n",
    "    fig = plt.figure(figsize= (4, 4)) \n",
    "    fig, axs = plt.subplots(4,4, sharex=True, sharey=True)\n",
    "    cnt = 0 \n",
    "    for i in range(4):\n",
    "        for j in range(4):\n",
    "            axs[i, j].imshow(batch[images[cnt]]) # get image from batch at index 'i'\n",
    "            cnt += 1\n",
    "    plt.show()"
   ]
  },
  {
   "cell_type": "markdown",
   "id": "5374b4f3",
   "metadata": {},
   "source": [
    "### Image Attributes"
   ]
  },
  {
   "cell_type": "code",
   "execution_count": 44,
   "id": "204529ee",
   "metadata": {},
   "outputs": [],
   "source": [
    "def img_attr(batch):\n",
    "    print(f'Images are {batch[0].shape[0]} by {batch[0].shape[1]} with {batch[0].shape[2]} channels')"
   ]
  },
  {
   "cell_type": "markdown",
   "id": "076b6da8",
   "metadata": {},
   "source": [
    "Retreive all images from dataset"
   ]
  },
  {
   "cell_type": "code",
   "execution_count": 45,
   "id": "3a8cea86",
   "metadata": {},
   "outputs": [],
   "source": [
    "def read_collection(folder_name:str):\n",
    "    return imread_collection(f'{folder_name}/*.png')"
   ]
  },
  {
   "cell_type": "code",
   "execution_count": 46,
   "id": "350b6638",
   "metadata": {},
   "outputs": [],
   "source": [
    "collection = read_collection(image_path)"
   ]
  },
  {
   "cell_type": "code",
   "execution_count": 47,
   "id": "26e7510b",
   "metadata": {
    "scrolled": false
   },
   "outputs": [
    {
     "data": {
      "text/plain": [
       "10000"
      ]
     },
     "execution_count": 47,
     "metadata": {},
     "output_type": "execute_result"
    }
   ],
   "source": [
    "len(collection)"
   ]
  },
  {
   "cell_type": "code",
   "execution_count": 48,
   "id": "1fc84282",
   "metadata": {},
   "outputs": [
    {
     "data": {
      "text/plain": [
       "<Figure size 288x288 with 0 Axes>"
      ]
     },
     "metadata": {},
     "output_type": "display_data"
    },
    {
     "data": {
      "image/png": "[encoded data removed]",
      "text/plain": [
       "<Figure size 432x288 with 16 Axes>"
      ]
     },
     "metadata": {
      "needs_background": "light"
     },
     "output_type": "display_data"
    }
   ],
   "source": [
    "show_batch(collection)"
   ]
  },
  {
   "cell_type": "code",
   "execution_count": 43,
   "id": "3218f64f",
   "metadata": {},
   "outputs": [
    {
     "data": {
      "text/plain": [
       "(1024, 1024, 3)"
      ]
     },
     "execution_count": 43,
     "metadata": {},
     "output_type": "execute_result"
    }
   ],
   "source": [
    "collection[0].shape"
   ]
  },
  {
   "cell_type": "code",
   "execution_count": 44,
   "id": "79e68627",
   "metadata": {},
   "outputs": [
    {
     "name": "stdout",
     "output_type": "stream",
     "text": [
      "Images are 1024 by 1024 with 3 channels\n"
     ]
    }
   ],
   "source": [
    "img_attr(collection)"
   ]
  },
  {
   "cell_type": "markdown",
   "id": "d159fdb0",
   "metadata": {},
   "source": [
    "### Neural Network - 1.0\n",
    "We begin by definning attributes. All images in the dataset are from [thispersondoesnotexistcom](https://www.thispersondoesnotexist.com), therefore all images are $1024 \\times 1024$ with $3$ channels"
   ]
  },
  {
   "cell_type": "code",
   "execution_count": 51,
   "id": "684e13c2",
   "metadata": {},
   "outputs": [],
   "source": [
    "rows = collection[0].shape[0]\n",
    "cols = collection[0].shape[1]\n",
    "channels = collection[0].shape[2]"
   ]
  },
  {
   "cell_type": "code",
   "execution_count": 52,
   "id": "65468597",
   "metadata": {},
   "outputs": [],
   "source": [
    "image_shape = (rows, cols, channels)"
   ]
  },
  {
   "cell_type": "markdown",
   "id": "963eae70",
   "metadata": {},
   "source": [
    "`z_dim` represents the dimenions of the noise vector to be inputed into the generator"
   ]
  },
  {
   "cell_type": "markdown",
   "id": "7253c8b7",
   "metadata": {},
   "source": [
    "We first import libraries to be used"
   ]
  },
  {
   "cell_type": "code",
   "execution_count": 53,
   "id": "f69a6545",
   "metadata": {},
   "outputs": [],
   "source": [
    "from keras.layers import Dense, Flatten, Reshape, Conv2DTranspose, UpSampling2D, Activation, Conv2D, BatchNormalization, UpSampling2D\n",
    "from keras.layers import LeakyReLU\n",
    "from keras.models import Sequential\n",
    "from keras.optimizers import Adam"
   ]
  },
  {
   "cell_type": "code",
   "execution_count": 54,
   "id": "6669ef12",
   "metadata": {},
   "outputs": [],
   "source": [
    "z_dim = 512 # 512 is a good default"
   ]
  },
  {
   "cell_type": "markdown",
   "id": "9138c4b2",
   "metadata": {},
   "source": [
    "We implement the schematics for $G(z)$ to generate $1024 \\times 1024$ images from [Marchesi, Marco. (2017). Megapixel Size Image Creation using Generative Adversarial Networks.](https://www.researchgate.net/publication/317300265_Megapixel_Size_Image_Creation_using_Generative_Adversarial_Networks), [Karras, Aila. (2018). Progressive Growing of GANs for Improved Quality Stability, and Variation.](https://arxiv.org/pdf/1710.10196.pdf)"
   ]
  },
  {
   "cell_type": "markdown",
   "id": "934dc84d",
   "metadata": {},
   "source": [
    "#### Generator "
   ]
  },
  {
   "cell_type": "code",
   "execution_count": 62,
   "id": "6d72fe24",
   "metadata": {},
   "outputs": [],
   "source": [
    "def create_generator(z):\n",
    "    model = Sequential()\n",
    "    \n",
    "    # Input Latent vector\n",
    "    model.add(Dense(512, input_dim=z))\n",
    "    model.add(Reshape((1, 1, 512)))\n",
    "    \n",
    "    # Conv 1.0 (4x4) -> LeakyReLU -> (3x3) -> LeakyReLU\n",
    "    model.add(Conv2DTranspose(512, kernel_size=4, padding='valid'))\n",
    "    model.add(LeakyReLU(alpha=0.1))\n",
    "    model.add(BatchNormalization(momentum=0.8))\n",
    "    model.add(Conv2DTranspose(512, kernel_size=3, padding='same'))\n",
    "    model.add(LeakyReLU(alpha=0.1))\n",
    "    model.add(BatchNormalization(momentum=0.8))\n",
    "    \n",
    "    # Conv 2.0 (3x3) -> LeakyReLU -> (3x3) -> LeakyReLU\n",
    "    model.add(Conv2DTranspose(512, kernel_size=3, strides=2, padding='same'))\n",
    "    model.add(LeakyReLU(alpha=0.1))\n",
    "    model.add(BatchNormalization(momentum=0.8))\n",
    "    model.add(Conv2DTranspose(512, kernel_size=3, padding='same')) \n",
    "    model.add(LeakyReLU(alpha=0.1))\n",
    "    model.add(BatchNormalization(momentum=0.8))\n",
    "    \n",
    "    # Conv 3.0 (3x3) -> LeakyReLU -> (3x3) -> LeakyReLU\n",
    "    model.add(Conv2DTranspose(512, kernel_size=3, strides=2, padding='same')) \n",
    "    model.add(LeakyReLU(alpha=0.1))\n",
    "    model.add(BatchNormalization(momentum=0.8))\n",
    "    model.add(Conv2DTranspose(512, kernel_size=3, padding='same')) \n",
    "    model.add(LeakyReLU(alpha=0.1))\n",
    "    model.add(BatchNormalization(momentum=0.8))\n",
    "    \n",
    "    # Conv 4.0 (3x3) -> LeakyReLU -> (3x3) -> LeakyReLU\n",
    "    model.add(Conv2DTranspose(512, kernel_size=3, strides=2, padding='same')) \n",
    "    model.add(LeakyReLU(alpha=0.1))\n",
    "    model.add(BatchNormalization(momentum=0.8))\n",
    "    model.add(Conv2DTranspose(512, kernel_size=3, padding='same')) \n",
    "    model.add(LeakyReLU(alpha=0.1))\n",
    "    model.add(BatchNormalization(momentum=0.8))\n",
    "    \n",
    "    # Conv 5.0 (3x3) -> LeakyReLU -> (3x3) -> LeakyReLU\n",
    "    model.add(Conv2DTranspose(512, kernel_size=3, strides=2, padding='same')) \n",
    "    model.add(LeakyReLU(alpha=0.1))\n",
    "    model.add(BatchNormalization(momentum=0.8))\n",
    "    model.add(Conv2DTranspose(512, kernel_size=3, padding='same')) \n",
    "    model.add(LeakyReLU(alpha=0.1))\n",
    "    model.add(BatchNormalization(momentum=0.8))\n",
    "    \n",
    "    # Conv 6.0 (3x3) -> LeakyReLU -> (3x3) -> LeakyReLU\n",
    "    model.add(Conv2DTranspose(256, kernel_size=3, padding='same')) \n",
    "    model.add(LeakyReLU(alpha=0.1))\n",
    "    model.add(BatchNormalization(momentum=0.8))\n",
    "    model.add(Conv2DTranspose(256, kernel_size=3, padding='same')) \n",
    "    model.add(LeakyReLU(alpha=0.1))\n",
    "    model.add(BatchNormalization(momentum=0.8))\n",
    "    \n",
    "    # Conv 7.0 (3x3) -> LeakyReLU -> (3x3) -> LeakyReLU\n",
    "    model.add(Conv2DTranspose(128, kernel_size=3, strides=2, padding='same')) \n",
    "    model.add(LeakyReLU(alpha=0.1))\n",
    "    model.add(BatchNormalization(momentum=0.8))\n",
    "    model.add(Conv2DTranspose(128, kernel_size=3, padding='same')) \n",
    "    model.add(LeakyReLU(alpha=0.1))\n",
    "    model.add(BatchNormalization(momentum=0.8))\n",
    "    \n",
    "    # Conv 8.0 (3x3) -> LeakyReLU -> (3x3) -> LeakyReLU\n",
    "    model.add(Conv2DTranspose(64, kernel_size=3, strides=2, padding='same')) \n",
    "    model.add(LeakyReLU(alpha=0.1))\n",
    "    model.add(BatchNormalization(momentum=0.8))\n",
    "    model.add(Conv2DTranspose(64, kernel_size=3, padding='same')) \n",
    "    model.add(LeakyReLU(alpha=0.1))\n",
    "    model.add(BatchNormalization(momentum=0.8))\n",
    "    \n",
    "    # Conv 9.0 (3x3) -> LeakyReLU -> (3x3) -> LeakyReLU\n",
    "    model.add(Conv2DTranspose(32, kernel_size=3, strides=2, padding='same')) \n",
    "    model.add(LeakyReLU(alpha=0.1))\n",
    "    model.add(BatchNormalization(momentum=0.8))\n",
    "    model.add(Conv2DTranspose(32, kernel_size=3, padding='same')) \n",
    "    model.add(LeakyReLU(alpha=0.1))\n",
    "    model.add(BatchNormalization(momentum=0.8))\n",
    "    \n",
    "    # Conv 10.0 (3x3) -> LeakyReLU -> (3x3) -> LeakyReLU\n",
    "    model.add(Conv2DTranspose(16, kernel_size=3, strides=2, padding='same')) \n",
    "    model.add(LeakyReLU(alpha=0.1))\n",
    "    model.add(BatchNormalization(momentum=0.8))\n",
    "    model.add(Conv2DTranspose(16, kernel_size=3, padding='same')) \n",
    "    model.add(LeakyReLU(alpha=0.1))\n",
    "    model.add(Conv2DTranspose(3, kernel_size=1, padding='valid')) \n",
    "    model.add(LeakyReLU(alpha=0.1))\n",
    "    model.add(Activation('tanh'))\n",
    "    return model"
   ]
  },
  {
   "cell_type": "markdown",
   "id": "8df05022",
   "metadata": {},
   "source": [
    "We can test our generator's functionality"
   ]
  },
  {
   "cell_type": "code",
   "execution_count": 77,
   "id": "3a6526c8",
   "metadata": {},
   "outputs": [],
   "source": [
    "def test_gen(z):\n",
    "    gen = create_generator(z)\n",
    "    noise = tf.random.normal([1, 512],)\n",
    "    img = gen(noise, training=False)\n",
    "    img = tf.reshape(img, shape=(img.shape[1], img.shape[2], img.shape[3]))\n",
    "    plt.imshow(img)\n",
    "    plt.show()"
   ]
  },
  {
   "cell_type": "code",
   "execution_count": 78,
   "id": "e2cc68c4",
   "metadata": {},
   "outputs": [
    {
     "name": "stderr",
     "output_type": "stream",
     "text": [
      "Clipping input data to the valid range for imshow with RGB data ([0..1] for floats or [0..255] for integers).\n"
     ]
    },
    {
     "data": {
      "image/png": "[encoded data removed]",
      "text/plain": [
       "<Figure size 432x288 with 1 Axes>"
      ]
     },
     "metadata": {
      "needs_background": "light"
     },
     "output_type": "display_data"
    }
   ],
   "source": [
    "test_gen(z=z_dim)"
   ]
  },
  {
   "cell_type": "markdown",
   "id": "6565f23b",
   "metadata": {},
   "source": [
    "#### Discriminator"
   ]
  },
  {
   "cell_type": "code",
   "execution_count": 65,
   "id": "4350700d",
   "metadata": {},
   "outputs": [],
   "source": [
    "def create_discriminator(img_shape):\n",
    "    model = Sequential()\n",
    "    model.add(Conv2D(3, kernel_size=1, padding='same', input_shape=img_shape))\n",
    "    model.add(Conv2D(3, kernel_size=3, padding='same', input_shape=img_shape))\n",
    "    model.add(Conv2D(32, kernel_size=3, strides=2, padding='same', input_shape=img_shape))\n",
    "    \n",
    "    # Conv 2.0\n",
    "    model.add(Conv2D(32, kernel_size=3, padding='same', input_shape=img_shape))\n",
    "    model.add(Conv2D(64, kernel_size=2, strides=2, padding='valid', input_shape=img_shape))\n",
    "    \n",
    "    # Conv 3.0\n",
    "    model.add(Conv2D(64, kernel_size=3, padding='same', input_shape=img_shape))\n",
    "    model.add(Conv2D(128, kernel_size=2, strides=2, padding='valid', input_shape=img_shape))\n",
    "    \n",
    "    # Conv 4.0\n",
    "    model.add(Conv2D(256, kernel_size=3, padding='same', input_shape=img_shape))\n",
    "    model.add(Conv2D(256, kernel_size=2, strides=2, padding='valid', input_shape=img_shape))\n",
    "    \n",
    "    # Conv 5.0\n",
    "    model.add(Conv2D(512, kernel_size=3, padding='same', input_shape=img_shape))\n",
    "    model.add(Conv2D(512, kernel_size=2, strides=2, padding='valid', input_shape=img_shape))\n",
    "    \n",
    "    # Conv 6.0\n",
    "    model.add(Conv2D(512, kernel_size=3, padding='same', input_shape=img_shape))\n",
    "    model.add(Conv2D(512, kernel_size=2, strides=2, padding='valid', input_shape=img_shape))\n",
    "    \n",
    "    # Conv 7.0\n",
    "    model.add(Conv2D(512, kernel_size=3, padding='same', input_shape=img_shape))\n",
    "    model.add(Conv2D(512, kernel_size=2, strides=2, padding='valid', input_shape=img_shape))\n",
    "    \n",
    "    # Conv 8.0\n",
    "    model.add(Conv2D(512, kernel_size=3, padding='same', input_shape=img_shape))\n",
    "    model.add(Conv2D(512, kernel_size=2, strides=2, padding='valid', input_shape=img_shape))\n",
    "    \n",
    "    # Final \n",
    "    model.add(Conv2D(512, kernel_size=3, padding='same', input_shape=img_shape))\n",
    "    model.add(Conv2D(512, kernel_size=3, strides=2, padding='valid', input_shape=img_shape))\n",
    "    \n",
    "    # Finalized\n",
    "    model.add(Flatten())\n",
    "    model.add(Dense(1, activation='sigmoid'))\n",
    "    \n",
    "    return model"
   ]
  },
  {
   "cell_type": "markdown",
   "id": "daf2e86e",
   "metadata": {},
   "source": [
    "#### Set up (S) - 1.1 Create\n",
    "We begin by initializing the discriminator and generator"
   ]
  },
  {
   "cell_type": "code",
   "execution_count": 66,
   "id": "2848835f",
   "metadata": {},
   "outputs": [],
   "source": [
    "generator = create_generator(z=z_dim)\n",
    "discriminator = create_discriminator(img_shape=image_shape)"
   ]
  },
  {
   "cell_type": "markdown",
   "id": "c354a60c",
   "metadata": {},
   "source": [
    "#### S - 1.2 Compile \n",
    "We know compile both models. <br>\n",
    "NOTE: _Implement OS exisitng model loading_"
   ]
  },
  {
   "cell_type": "markdown",
   "id": "9ed9c599",
   "metadata": {},
   "source": [
    "##### Generator Compile"
   ]
  },
  {
   "cell_type": "code",
   "execution_count": 67,
   "id": "6894eec5",
   "metadata": {},
   "outputs": [],
   "source": [
    "generator.compile(loss='binary_crossentropy', \n",
    "                  optimizer=Adam())"
   ]
  },
  {
   "cell_type": "markdown",
   "id": "c608710b",
   "metadata": {},
   "source": [
    "##### Discriminator Compile"
   ]
  },
  {
   "cell_type": "code",
   "execution_count": 68,
   "id": "89913b70",
   "metadata": {},
   "outputs": [],
   "source": [
    "discriminator.compile(loss='binary_crossentropy',\n",
    "                      optimizer=Adam(),\n",
    "                      metrics=['accuracy'])"
   ]
  },
  {
   "cell_type": "markdown",
   "id": "51d07b72",
   "metadata": {},
   "source": [
    "#### S - 1.3 Disable Discriminator Training"
   ]
  },
  {
   "cell_type": "code",
   "execution_count": 69,
   "id": "7864a935",
   "metadata": {},
   "outputs": [],
   "source": [
    "discriminator.trainable = False"
   ]
  },
  {
   "cell_type": "code",
   "execution_count": 70,
   "id": "f607b541",
   "metadata": {},
   "outputs": [],
   "source": [
    "def GAN(generator, discriminator):\n",
    "    model = Sequential()\n",
    "    model.add(generator)\n",
    "    model.add(discriminator)\n",
    "    \n",
    "    return model"
   ]
  },
  {
   "cell_type": "code",
   "execution_count": 71,
   "id": "130ff932",
   "metadata": {},
   "outputs": [],
   "source": [
    "gan = GAN(generator, discriminator)\n",
    "gan.compile(loss='binary_crossentropy', \n",
    "                  optimizer=Adam())"
   ]
  },
  {
   "cell_type": "markdown",
   "id": "52a1150b",
   "metadata": {},
   "source": [
    "#### TESTING DISCRIMINATOR\n",
    "---\n",
    "```python\n",
    "noise = tf.random.normal([1, 512],)\n",
    "img = generator(noise, training=False)\n",
    "disc_output = discriminator(img, training=False)\n",
    "print(\"Discriminator output on fake images:\", disc_output.numpy())\n",
    "real_image = collection[0]\n",
    "disc_2_output = discriminator(np.expand_dims(real_image, axis=0), training=False)\n",
    "```\n",
    "---"
   ]
  },
  {
   "cell_type": "markdown",
   "id": "9913f37e",
   "metadata": {},
   "source": [
    "#### S - 1.4 Training Iterations"
   ]
  },
  {
   "cell_type": "markdown",
   "id": "763e9895",
   "metadata": {},
   "source": [
    "#### S - 1.4.1 Params"
   ]
  },
  {
   "cell_type": "code",
   "execution_count": 59,
   "id": "c924e461",
   "metadata": {},
   "outputs": [],
   "source": [
    "iterations = 10_000\n",
    "batch_size = 32\n",
    "sample_interval = 50"
   ]
  },
  {
   "cell_type": "code",
   "execution_count": 60,
   "id": "336160f6",
   "metadata": {},
   "outputs": [],
   "source": [
    "def train_gan(iteraions:int, batch_size:int, sample_interval:int):\n",
    "    collection = imread_collection(\"./images/*.png\")\n",
    "    image_count = 0\n",
    "    \n",
    "    # Collect batch\n",
    "    start = time.time()\n",
    "    real_image_batch = np.array(collection[:sample_interval]) # get batch\n",
    "    real_image_batch = np.array(collection[:sample_interval]) / 127.5 - 1.0 # rescale [-1,1]\n",
    "    end = time.time()\n",
    "    print(f'Collecting real images... Normalizing... - {time.ctime(end - start)}')\n",
    "    \n",
    "    # Labels \n",
    "    start = time.time()\n",
    "    real_labels = np.ones((batch_size, 1))\n",
    "    fake_labels = np.zeros((batch_size, 1))\n",
    "    end = time.time()\n",
    "    print(f'Generating labels ... - {time.ctime(end - start)}')\n",
    "    \n",
    "    # Training\n",
    "    for iteration in range(iterations):\n",
    "        start = time.time()\n",
    "        print(f'Iteration {iteration} of {iteraions} - New Process')\n",
    "        \n",
    "        # Random batch of real images\n",
    "        batch_of_real_indecies = np.random.randint(0, real_image_batch.shape[0], batch_size)\n",
    "        batch_of_real_imgs = real_image_batch[batch_of_real_indecies]\n",
    "        \n",
    "        # Random batch of fake images\n",
    "        z_fake = np.random.normal(0, 1, (batch_size, 512))\n",
    "        generated_images = generator.predict(z_fake)\n",
    "        \n",
    "        # Train Discriminator -> [Loss, Accuracy]\n",
    "        print(f'Training Discriminator')\n",
    "        discriminator_real_loss = discriminator.train_on_batch(batch_of_real_imgs, real_labels)       \n",
    "        discriminator_fake_loss = discriminator.train_on_batch(generated_images, fake_labels)\n",
    "        \n",
    "        # Get Discriminator loss and accuracy\n",
    "        discriminator_loss, accuracy = 0.5 * np.add(discriminator_real_loss, discriminator_fake_loss)\n",
    "        \n",
    "        # Train Generator\n",
    "        print(f'Training Generator')\n",
    "        z_fake = np.random.normal(0, 1, (batch_size, 512))\n",
    "        generated_images = generator.predict(z_fake)\n",
    "        \n",
    "        \n",
    "        # Get Generator loss and accuracy\n",
    "        gan_loss = gan.train_on_batch(z_fake, real_labels)\n",
    "        end = time.time()\n",
    "        print(f'Epoch time {iteration} - {time.ctime(end - start)}')\n",
    "        # Progress output\n",
    "        if (iteration + 1) % sample_interval == 0:\n",
    "            print(\"%d [D loss: %f, acc.:%.2f%%] [G loss: %f]\" % (iteration + 1, discriminator_loss, 100.0* accuracy, gan_loss))\n",
    "            \n",
    "            # Generate random images\n",
    "            z_generated = np.random.randint(0, 1, (4*4, z_dim))\n",
    "            generate_images = generator.predict(z_generated)\n",
    "            generate_images = 0.5 * generate_images + 0.5\n",
    "            \n",
    "            # Plot\n",
    "            fig = plt.figure(figsize= (4, 4)) \n",
    "            fig, axs = plt.subplots(4, 4, sharex=True, sharey=True)\n",
    "            cnt = 0 \n",
    "            for i in range(3):\n",
    "                for j in range(3):\n",
    "                    cnt += 1\n",
    "                    axs[i, j].imshow(generate_images[cnt]) # get image from batch at index 'i'\n",
    "            plt.savefig(f'iteration{image_count}-gan.png')\n",
    "            image_count += 1\n",
    "            plt.show()"
   ]
  },
  {
   "cell_type": "markdown",
   "id": "76dcfa9b",
   "metadata": {},
   "source": [
    "#### Training the network\n",
    "```python\n",
    "train_gan(iterations, batch_size, sample_interval)\n",
    "```"
   ]
  }
 ],
 "metadata": {
  "kernelspec": {
   "display_name": "Python 3 (ipykernel)",
   "language": "python",
   "name": "python3"
  },
  "language_info": {
   "codemirror_mode": {
    "name": "ipython",
    "version": 3
   },
   "file_extension": ".py",
   "mimetype": "text/x-python",
   "name": "python",
   "nbconvert_exporter": "python",
   "pygments_lexer": "ipython3",
   "version": "3.10.0"
  }
 },
 "nbformat": 4,
 "nbformat_minor": 5
}
