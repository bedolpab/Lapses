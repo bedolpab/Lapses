{
 "cells": [
  {
   "cell_type": "code",
   "execution_count": 18,
   "id": "338e80fe",
   "metadata": {},
   "outputs": [],
   "source": [
    "import tensorflow as tf\n",
    "from tensorflow import keras\n",
    "from skimage import io\n",
    "from skimage.io import imread_collection\n",
    "import matplotlib.pyplot as plt\n",
    "import numpy as np\n",
    "import requests\n",
    "import shutil"
   ]
  },
  {
   "cell_type": "markdown",
   "id": "69cae80d",
   "metadata": {},
   "source": [
    "## Fetch Data (Images)\n",
    "We begin by fetching a dataset of 10,000 images from [thispersondoesnotexistcom](https://www.thispersondoesnotexist.com). We do so by requesting from the endpoint `thispersondoesnotexist.com/images` 10,000 (k) times."
   ]
  },
  {
   "cell_type": "code",
   "execution_count": 16,
   "id": "a7a9f4bb",
   "metadata": {},
   "outputs": [],
   "source": [
    "def fetch_images(k: int, folder_name: str):\n",
    "    \"\"\" \n",
    "    Fetch images from thispersondoesnotexist.com\n",
    "    \n",
    "    :param k: number of images to fetch\n",
    "    :param folder_name: name of folder to save images to\n",
    "    \"\"\"\n",
    "    if k < 1:\n",
    "        return 0\n",
    "    \n",
    "    # Locals\n",
    "    count = 0\n",
    "    endpoint = 'image'\n",
    "    url = f'https://thispersondoesnotexist.com/{endpoint}'\n",
    "    while count < k:\n",
    "        image = requests.get(url).content\n",
    "        with open(f'{folder_name}/img_{count}.png', 'wb') as f:\n",
    "            f.write(image)\n",
    "        count += 1\n",
    "        \n",
    "        # A times.sleep(x) is recommended to avoid latency errors"
   ]
  },
  {
   "cell_type": "markdown",
   "id": "9effd8b9",
   "metadata": {},
   "source": [
    "We can now call this function and store the images locally"
   ]
  },
  {
   "cell_type": "code",
   "execution_count": null,
   "id": "a1af820c",
   "metadata": {},
   "outputs": [],
   "source": [
    "fetch_images(k=10_000, folder_name='images')"
   ]
  },
  {
   "cell_type": "markdown",
   "id": "3ad16d03",
   "metadata": {},
   "source": [
    "## Validating image\n",
    "We should validate wether the image exists"
   ]
  },
  {
   "cell_type": "code",
   "execution_count": 19,
   "id": "2002fd22",
   "metadata": {},
   "outputs": [],
   "source": [
    "def image_exists(folder_name:str) -> bool:\n",
    "    \"\"\" \n",
    "    Check whether an image exists in folder_name\n",
    "    \n",
    "    :param folder_name: folder in which dataset images are located\n",
    "    \"\"\"\n",
    "    try:\n",
    "        # Default image 0\n",
    "        image = io.imread(f'{folder_name}/img_0.png')\n",
    "        return True\n",
    "    except:\n",
    "        print(f'Image \"img_0.png\" in {folder_name} not found')\n",
    "        return False"
   ]
  },
  {
   "cell_type": "code",
   "execution_count": 22,
   "id": "235a8d62",
   "metadata": {},
   "outputs": [],
   "source": [
    "image_exists(folder_name='images')"
   ]
  }
 ],
 "metadata": {
  "kernelspec": {
   "display_name": "Python 3 (ipykernel)",
   "language": "python",
   "name": "python3"
  },
  "language_info": {
   "codemirror_mode": {
    "name": "ipython",
    "version": 3
   },
   "file_extension": ".py",
   "mimetype": "text/x-python",
   "name": "python",
   "nbconvert_exporter": "python",
   "pygments_lexer": "ipython3",
   "version": "3.10.0"
  }
 },
 "nbformat": 4,
 "nbformat_minor": 5
}
